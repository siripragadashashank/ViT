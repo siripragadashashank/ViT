{
 "cells": [
  {
   "cell_type": "code",
   "execution_count": 1,
   "id": "6d0a0f0d",
   "metadata": {},
   "outputs": [],
   "source": [
    "import torch\n",
    "import torch.nn as nn\n",
    "\n",
    "from utils import img_to_patch\n",
    "from datasets import ViTDataLoader\n",
    "from models.vit import AttentionBlock"
   ]
  },
  {
   "cell_type": "code",
   "execution_count": 2,
   "id": "ce373675",
   "metadata": {},
   "outputs": [],
   "source": [
    "patch_size = 4\n",
    "embed_dim = 256\n",
    "num_channels = 3\n",
    "num_patches = 64\n",
    "hidden_dim = 512\n",
    "num_heads = 8\n",
    "dropout = 0.2\n",
    "num_layers = 6"
   ]
  },
  {
   "cell_type": "code",
   "execution_count": 3,
   "id": "646c45ad",
   "metadata": {},
   "outputs": [
    {
     "name": "stdout",
     "output_type": "stream",
     "text": [
      "Files already downloaded and verified\n"
     ]
    },
    {
     "name": "stderr",
     "output_type": "stream",
     "text": [
      "Global seed set to 42\n"
     ]
    }
   ],
   "source": [
    "vit_loader = ViTDataLoader(dataset_path='data', batch_size=1)\n",
    "train = vit_loader.get_train_loader()"
   ]
  },
  {
   "cell_type": "markdown",
   "id": "a645b61f",
   "metadata": {},
   "source": [
    "### Pick a batch with single image from training data (1 x 3 x 32 x 32)"
   ]
  },
  {
   "cell_type": "code",
   "execution_count": 13,
   "id": "a759c383",
   "metadata": {},
   "outputs": [
    {
     "data": {
      "text/plain": [
       "torch.Size([1, 3, 32, 32])"
      ]
     },
     "execution_count": 13,
     "metadata": {},
     "output_type": "execute_result"
    }
   ],
   "source": [
    "x = next(iter(train))[0]\n",
    "x.shape"
   ]
  },
  {
   "cell_type": "markdown",
   "id": "a7d693c3",
   "metadata": {},
   "source": [
    "### Convert img to patch"
   ]
  },
  {
   "cell_type": "markdown",
   "id": "1168550b",
   "metadata": {},
   "source": [
    "![img_to_patch](img_to_patch.png)"
   ]
  },
  {
   "cell_type": "code",
   "execution_count": 14,
   "id": "76ae574e",
   "metadata": {},
   "outputs": [
    {
     "data": {
      "text/plain": [
       "torch.Size([1, 64, 48])"
      ]
     },
     "execution_count": 14,
     "metadata": {},
     "output_type": "execute_result"
    }
   ],
   "source": [
    "x = img_to_patch(x, patch_size=4)\n",
    "x.shape"
   ]
  },
  {
   "cell_type": "code",
   "execution_count": 15,
   "id": "43309fa5",
   "metadata": {},
   "outputs": [
    {
     "name": "stdout",
     "output_type": "stream",
     "text": [
      "1 64\n"
     ]
    }
   ],
   "source": [
    "B, T, _ = x.shape\n",
    "print(B, T)"
   ]
  },
  {
   "cell_type": "code",
   "execution_count": 19,
   "id": "abfa2349",
   "metadata": {},
   "outputs": [
    {
     "name": "stdout",
     "output_type": "stream",
     "text": [
      "feature vector from each image patch 48 \n"
     ]
    }
   ],
   "source": [
    "in_features = num_channels*(patch_size**2)\n",
    "print(f\"feature vector from each image patch {in_features} \")"
   ]
  },
  {
   "cell_type": "markdown",
   "id": "0c98d89a",
   "metadata": {},
   "source": [
    "### Input Linear Projection layer"
   ]
  },
  {
   "cell_type": "code",
   "execution_count": 17,
   "id": "95699431",
   "metadata": {},
   "outputs": [],
   "source": [
    "input_layer = nn.Linear(in_features=in_features, out_features=embed_dim)"
   ]
  },
  {
   "cell_type": "markdown",
   "id": "08e0c76e",
   "metadata": {},
   "source": [
    "Project feature vector of size 48 to embed_dim of 256"
   ]
  },
  {
   "cell_type": "code",
   "execution_count": 20,
   "id": "d79ff963",
   "metadata": {},
   "outputs": [
    {
     "data": {
      "text/plain": [
       "torch.Size([1, 64, 256])"
      ]
     },
     "execution_count": 20,
     "metadata": {},
     "output_type": "execute_result"
    }
   ],
   "source": [
    "x = input_layer(x)\n",
    "x.shape"
   ]
  },
  {
   "cell_type": "markdown",
   "id": "98ade90f",
   "metadata": {},
   "source": [
    "### CLS token"
   ]
  },
  {
   "cell_type": "code",
   "execution_count": 21,
   "id": "f4b9f2fa",
   "metadata": {},
   "outputs": [
    {
     "data": {
      "text/plain": [
       "torch.Size([1, 1, 256])"
      ]
     },
     "execution_count": 21,
     "metadata": {},
     "output_type": "execute_result"
    }
   ],
   "source": [
    "cls_token = nn.Parameter(torch.randn(1, 1, embed_dim))\n",
    "cls_token.shape"
   ]
  },
  {
   "cell_type": "code",
   "execution_count": 22,
   "id": "a8d097b8",
   "metadata": {},
   "outputs": [
    {
     "data": {
      "text/plain": [
       "torch.Size([1, 1, 256])"
      ]
     },
     "execution_count": 22,
     "metadata": {},
     "output_type": "execute_result"
    }
   ],
   "source": [
    "cls_token = cls_token.repeat(B, 1, 1)\n",
    "cls_token.shape"
   ]
  },
  {
   "cell_type": "markdown",
   "id": "625170fe",
   "metadata": {},
   "source": [
    "### Appending CLS token layer to Input projection"
   ]
  },
  {
   "cell_type": "code",
   "execution_count": null,
   "id": "dab6f037",
   "metadata": {},
   "outputs": [],
   "source": [
    "x = torch.cat([cls_token, x], dim=1)"
   ]
  },
  {
   "cell_type": "code",
   "execution_count": 69,
   "id": "e7f6e36e",
   "metadata": {},
   "outputs": [
    {
     "data": {
      "text/plain": [
       "torch.Size([4, 65, 256])"
      ]
     },
     "execution_count": 69,
     "metadata": {},
     "output_type": "execute_result"
    }
   ],
   "source": [
    "x.shape"
   ]
  },
  {
   "cell_type": "markdown",
   "id": "1edc4cbf",
   "metadata": {},
   "source": [
    "### Positional embedding layer"
   ]
  },
  {
   "cell_type": "code",
   "execution_count": 72,
   "id": "043b3580",
   "metadata": {},
   "outputs": [
    {
     "data": {
      "text/plain": [
       "torch.Size([1, 65, 256])"
      ]
     },
     "execution_count": 72,
     "metadata": {},
     "output_type": "execute_result"
    }
   ],
   "source": [
    "pos_embedding = nn.Parameter(torch.randn(1, 1+num_patches, embed_dim))\n",
    "pos_embedding.shape"
   ]
  },
  {
   "cell_type": "code",
   "execution_count": 74,
   "id": "faedbd5d",
   "metadata": {},
   "outputs": [
    {
     "data": {
      "text/plain": [
       "torch.Size([1, 65, 256])"
      ]
     },
     "execution_count": 74,
     "metadata": {},
     "output_type": "execute_result"
    }
   ],
   "source": [
    "pos_embedding[:, :T+1].shape"
   ]
  },
  {
   "cell_type": "markdown",
   "id": "08710105",
   "metadata": {},
   "source": [
    "### Adding pos embedding to CLS+Input"
   ]
  },
  {
   "cell_type": "code",
   "execution_count": 75,
   "id": "8d5f8258",
   "metadata": {},
   "outputs": [
    {
     "data": {
      "text/plain": [
       "torch.Size([4, 65, 256])"
      ]
     },
     "execution_count": 75,
     "metadata": {},
     "output_type": "execute_result"
    }
   ],
   "source": [
    "x = x + pos_embedding[:, :T+1]\n",
    "x.shape"
   ]
  },
  {
   "cell_type": "code",
   "execution_count": 76,
   "id": "cd5d8d9d",
   "metadata": {},
   "outputs": [],
   "source": [
    "dropout = nn.Dropout(p=0.2)"
   ]
  },
  {
   "cell_type": "code",
   "execution_count": 77,
   "id": "b84b5784",
   "metadata": {},
   "outputs": [
    {
     "data": {
      "text/plain": [
       "torch.Size([4, 65, 256])"
      ]
     },
     "execution_count": 77,
     "metadata": {},
     "output_type": "execute_result"
    }
   ],
   "source": [
    "x = dropout(x)\n",
    "x.shape"
   ]
  },
  {
   "cell_type": "markdown",
   "id": "81c4144a",
   "metadata": {},
   "source": [
    "### Taking transpose for self attention of embedded vectors"
   ]
  },
  {
   "cell_type": "code",
   "execution_count": 78,
   "id": "96ccd645",
   "metadata": {},
   "outputs": [
    {
     "data": {
      "text/plain": [
       "torch.Size([65, 4, 256])"
      ]
     },
     "execution_count": 78,
     "metadata": {},
     "output_type": "execute_result"
    }
   ],
   "source": [
    "x = x.transpose(0, 1)\n",
    "x.shape"
   ]
  },
  {
   "cell_type": "markdown",
   "id": "9ffd536f",
   "metadata": {},
   "source": [
    "### Multi-Headed Attention"
   ]
  },
  {
   "cell_type": "code",
   "execution_count": 83,
   "id": "6119218d",
   "metadata": {},
   "outputs": [],
   "source": [
    "transformer = nn.Sequential(*[AttentionBlock(embed_dim, hidden_dim, num_heads, dropout=dropout)\n",
    "                                           for _ in range(num_layers)])"
   ]
  },
  {
   "cell_type": "code",
   "execution_count": 84,
   "id": "cbcd41f3",
   "metadata": {},
   "outputs": [
    {
     "data": {
      "text/plain": [
       "torch.Size([65, 4, 256])"
      ]
     },
     "execution_count": 84,
     "metadata": {},
     "output_type": "execute_result"
    }
   ],
   "source": [
    "x = transformer(x)\n",
    "x.shape"
   ]
  },
  {
   "cell_type": "markdown",
   "id": "6e74f961",
   "metadata": {},
   "source": [
    "### Output feature vector of CLS token"
   ]
  },
  {
   "cell_type": "code",
   "execution_count": 108,
   "id": "b3e7fa4e",
   "metadata": {},
   "outputs": [
    {
     "data": {
      "text/plain": [
       "torch.Size([4, 256])"
      ]
     },
     "execution_count": 108,
     "metadata": {},
     "output_type": "execute_result"
    }
   ],
   "source": [
    "cls = x[0]\n",
    "cls.shape"
   ]
  },
  {
   "cell_type": "markdown",
   "id": "134bc40f",
   "metadata": {},
   "source": [
    "### MLP head for output classification"
   ]
  },
  {
   "cell_type": "code",
   "execution_count": 109,
   "id": "8d1e2ce0",
   "metadata": {},
   "outputs": [],
   "source": [
    "mlp_head = nn.Sequential(\n",
    "            nn.LayerNorm(embed_dim),\n",
    "            nn.Linear(embed_dim, 10)\n",
    "        )"
   ]
  },
  {
   "cell_type": "code",
   "execution_count": 112,
   "id": "a8bf62fe",
   "metadata": {},
   "outputs": [
    {
     "data": {
      "text/plain": [
       "torch.Size([4, 10])"
      ]
     },
     "execution_count": 112,
     "metadata": {},
     "output_type": "execute_result"
    }
   ],
   "source": [
    "out = mlp_head(cls)\n",
    "out.shape # output probabilities"
   ]
  },
  {
   "cell_type": "code",
   "execution_count": 113,
   "id": "5f25c052",
   "metadata": {},
   "outputs": [
    {
     "data": {
      "text/plain": [
       "tensor([[-0.1672, -0.8544,  0.0415, -1.3316, -0.2346,  0.0321,  0.1616,  1.1617,\n",
       "         -0.3525, -0.3639],\n",
       "        [ 0.2456, -0.3916, -0.4581, -1.0139,  0.2070,  0.5930, -0.6954,  1.1957,\n",
       "         -0.5270, -0.5197],\n",
       "        [-0.0993, -0.9147,  0.2171, -0.6132,  0.2205,  0.2926,  0.0089,  0.9484,\n",
       "         -0.6022, -0.3287],\n",
       "        [-0.2900, -0.6046, -0.1202, -1.0657,  0.7453,  0.7413, -0.2312,  0.6247,\n",
       "         -0.2546, -0.1642]], grad_fn=<AddmmBackward0>)"
      ]
     },
     "execution_count": 113,
     "metadata": {},
     "output_type": "execute_result"
    }
   ],
   "source": [
    "out"
   ]
  },
  {
   "cell_type": "code",
   "execution_count": null,
   "id": "e4c285f3",
   "metadata": {},
   "outputs": [],
   "source": []
  },
  {
   "cell_type": "code",
   "execution_count": null,
   "id": "20ae5f4e",
   "metadata": {},
   "outputs": [],
   "source": [
    "%load_ext tensorboard\n",
    "%tensorboard --logdir saved_models/experiments"
   ]
  }
 ],
 "metadata": {
  "kernelspec": {
   "display_name": "Python 3 (ipykernel)",
   "language": "python",
   "name": "python3"
  },
  "language_info": {
   "codemirror_mode": {
    "name": "ipython",
    "version": 3
   },
   "file_extension": ".py",
   "mimetype": "text/x-python",
   "name": "python",
   "nbconvert_exporter": "python",
   "pygments_lexer": "ipython3",
   "version": "3.11.3"
  }
 },
 "nbformat": 4,
 "nbformat_minor": 5
}
