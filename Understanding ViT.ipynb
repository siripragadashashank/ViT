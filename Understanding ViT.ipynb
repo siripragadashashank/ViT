{
 "cells": [
  {
   "cell_type": "code",
   "execution_count": 1,
   "id": "1c471a1a",
   "metadata": {},
   "outputs": [],
   "source": [
    "import torch\n",
    "import torch.nn as nn\n",
    "\n",
    "from utils import img_to_patch\n",
    "from datasets import ViTDataLoader\n",
    "from models.vit import AttentionBlock"
   ]
  },
  {
   "cell_type": "code",
   "execution_count": 23,
   "id": "611edfb1",
   "metadata": {},
   "outputs": [],
   "source": [
    "patch_size = 4\n",
    "embed_dim = 256\n",
    "num_channels = 3\n",
    "num_patches = 64\n",
    "hidden_dim = 512\n",
    "num_heads = 8\n",
    "dropout = 0.2\n",
    "num_layers = 6"
   ]
  },
  {
   "cell_type": "code",
   "execution_count": 3,
   "id": "fa3e1578",
   "metadata": {},
   "outputs": [
    {
     "name": "stdout",
     "output_type": "stream",
     "text": [
      "Files already downloaded and verified\n"
     ]
    },
    {
     "name": "stderr",
     "output_type": "stream",
     "text": [
      "Global seed set to 42\n"
     ]
    }
   ],
   "source": [
    "vit_loader = ViTDataLoader(dataset_path='data', batch_size=1)\n",
    "train = vit_loader.get_train_loader()"
   ]
  },
  {
   "cell_type": "markdown",
   "id": "a1109ba5",
   "metadata": {},
   "source": [
    "### Pick a batch with single image from training data"
   ]
  },
  {
   "cell_type": "code",
   "execution_count": 4,
   "id": "3b377878",
   "metadata": {},
   "outputs": [
    {
     "data": {
      "text/plain": [
       "torch.Size([1, 3, 32, 32])"
      ]
     },
     "execution_count": 4,
     "metadata": {},
     "output_type": "execute_result"
    }
   ],
   "source": [
    "x = next(iter(train))[0]\n",
    "x.shape"
   ]
  },
  {
   "cell_type": "markdown",
   "id": "1d657cda",
   "metadata": {},
   "source": [
    "### Convert img to patch"
   ]
  },
  {
   "cell_type": "markdown",
   "id": "b719d809",
   "metadata": {},
   "source": [
    "![img_to_patch](img_to_patch.png)"
   ]
  },
  {
   "cell_type": "code",
   "execution_count": 5,
   "id": "11c3e77d",
   "metadata": {},
   "outputs": [
    {
     "data": {
      "text/plain": [
       "torch.Size([1, 64, 48])"
      ]
     },
     "execution_count": 5,
     "metadata": {},
     "output_type": "execute_result"
    }
   ],
   "source": [
    "x = img_to_patch(x, patch_size=4)\n",
    "x.shape"
   ]
  },
  {
   "cell_type": "code",
   "execution_count": 6,
   "id": "715a611f",
   "metadata": {},
   "outputs": [
    {
     "name": "stdout",
     "output_type": "stream",
     "text": [
      "1 64\n"
     ]
    }
   ],
   "source": [
    "B, T, _ = x.shape\n",
    "print(B, T)"
   ]
  },
  {
   "cell_type": "code",
   "execution_count": 7,
   "id": "9b21aca6",
   "metadata": {},
   "outputs": [
    {
     "name": "stdout",
     "output_type": "stream",
     "text": [
      "feature vector from each image patch 48 \n"
     ]
    }
   ],
   "source": [
    "in_features = num_channels*(patch_size**2)\n",
    "print(f\"feature vector from each image patch {in_features} \")"
   ]
  },
  {
   "cell_type": "markdown",
   "id": "f8b23caa",
   "metadata": {},
   "source": [
    "### Input Linear Projection layer"
   ]
  },
  {
   "cell_type": "code",
   "execution_count": 8,
   "id": "5b5a639c",
   "metadata": {},
   "outputs": [],
   "source": [
    "input_layer = nn.Linear(in_features=in_features, out_features=embed_dim)"
   ]
  },
  {
   "cell_type": "markdown",
   "id": "25dae183",
   "metadata": {},
   "source": [
    "Project feature vector of size 48 to embed_dim of 256"
   ]
  },
  {
   "cell_type": "code",
   "execution_count": 9,
   "id": "aefeea43",
   "metadata": {},
   "outputs": [
    {
     "data": {
      "text/plain": [
       "torch.Size([1, 64, 256])"
      ]
     },
     "execution_count": 9,
     "metadata": {},
     "output_type": "execute_result"
    }
   ],
   "source": [
    "x = input_layer(x)\n",
    "x.shape"
   ]
  },
  {
   "cell_type": "markdown",
   "id": "8811f5b7",
   "metadata": {},
   "source": [
    "### CLS token"
   ]
  },
  {
   "cell_type": "code",
   "execution_count": 10,
   "id": "db9f6997",
   "metadata": {},
   "outputs": [
    {
     "data": {
      "text/plain": [
       "torch.Size([1, 1, 256])"
      ]
     },
     "execution_count": 10,
     "metadata": {},
     "output_type": "execute_result"
    }
   ],
   "source": [
    "cls_token = nn.Parameter(torch.randn(1, 1, embed_dim))\n",
    "cls_token.shape"
   ]
  },
  {
   "cell_type": "code",
   "execution_count": 11,
   "id": "d9f756f6",
   "metadata": {},
   "outputs": [
    {
     "data": {
      "text/plain": [
       "torch.Size([1, 1, 256])"
      ]
     },
     "execution_count": 11,
     "metadata": {},
     "output_type": "execute_result"
    }
   ],
   "source": [
    "# repeat the token to match the batch\n",
    "cls_token = cls_token.repeat(B, 1, 1)\n",
    "cls_token.shape"
   ]
  },
  {
   "cell_type": "markdown",
   "id": "7401ec72",
   "metadata": {},
   "source": [
    "### Appending CLS token at the beginning of Input projection"
   ]
  },
  {
   "cell_type": "code",
   "execution_count": 12,
   "id": "f0c39f34",
   "metadata": {},
   "outputs": [],
   "source": [
    "x = torch.cat([cls_token, x], dim=1)"
   ]
  },
  {
   "cell_type": "code",
   "execution_count": 13,
   "id": "7c7b2cc6",
   "metadata": {},
   "outputs": [
    {
     "data": {
      "text/plain": [
       "torch.Size([1, 65, 256])"
      ]
     },
     "execution_count": 13,
     "metadata": {},
     "output_type": "execute_result"
    }
   ],
   "source": [
    "x.shape"
   ]
  },
  {
   "cell_type": "markdown",
   "id": "4e948b70",
   "metadata": {},
   "source": [
    "### Positional embedding layer"
   ]
  },
  {
   "cell_type": "code",
   "execution_count": 14,
   "id": "04264299",
   "metadata": {},
   "outputs": [
    {
     "data": {
      "text/plain": [
       "torch.Size([1, 65, 256])"
      ]
     },
     "execution_count": 14,
     "metadata": {},
     "output_type": "execute_result"
    }
   ],
   "source": [
    "pos_embedding = nn.Parameter(torch.randn(1, 1+num_patches, embed_dim))\n",
    "pos_embedding.shape"
   ]
  },
  {
   "cell_type": "code",
   "execution_count": 15,
   "id": "4ebf6c89",
   "metadata": {},
   "outputs": [
    {
     "data": {
      "text/plain": [
       "torch.Size([1, 65, 256])"
      ]
     },
     "execution_count": 15,
     "metadata": {},
     "output_type": "execute_result"
    }
   ],
   "source": [
    "pos_embedding[:, :T+1].shape"
   ]
  },
  {
   "cell_type": "markdown",
   "id": "df9a9b14",
   "metadata": {},
   "source": [
    "### Adding pos embedding to CLS+Input"
   ]
  },
  {
   "cell_type": "code",
   "execution_count": 16,
   "id": "4ea19819",
   "metadata": {},
   "outputs": [
    {
     "data": {
      "text/plain": [
       "torch.Size([1, 65, 256])"
      ]
     },
     "execution_count": 16,
     "metadata": {},
     "output_type": "execute_result"
    }
   ],
   "source": [
    "x = x + pos_embedding[:, :T+1]\n",
    "x.shape"
   ]
  },
  {
   "cell_type": "code",
   "execution_count": 17,
   "id": "306ee439",
   "metadata": {},
   "outputs": [],
   "source": [
    "dropout = nn.Dropout(p=0.2)"
   ]
  },
  {
   "cell_type": "code",
   "execution_count": 18,
   "id": "8ccb35a2",
   "metadata": {},
   "outputs": [
    {
     "data": {
      "text/plain": [
       "torch.Size([1, 65, 256])"
      ]
     },
     "execution_count": 18,
     "metadata": {},
     "output_type": "execute_result"
    }
   ],
   "source": [
    "x = dropout(x)\n",
    "x.shape"
   ]
  },
  {
   "cell_type": "markdown",
   "id": "b53f856d",
   "metadata": {},
   "source": [
    "### Taking transpose for self attention of embedded vectors"
   ]
  },
  {
   "cell_type": "code",
   "execution_count": 19,
   "id": "cc3840cd",
   "metadata": {},
   "outputs": [
    {
     "data": {
      "text/plain": [
       "torch.Size([65, 1, 256])"
      ]
     },
     "execution_count": 19,
     "metadata": {},
     "output_type": "execute_result"
    }
   ],
   "source": [
    "x = x.transpose(0, 1)\n",
    "x.shape"
   ]
  },
  {
   "cell_type": "markdown",
   "id": "dc9bb713",
   "metadata": {},
   "source": [
    "### Transformer block"
   ]
  },
  {
   "cell_type": "code",
   "execution_count": 25,
   "id": "c258c17d",
   "metadata": {},
   "outputs": [],
   "source": [
    "transformer = nn.Sequential(*[AttentionBlock(embed_dim, hidden_dim, num_heads, dropout=dropout)\n",
    "                                           for _ in range(num_layers)])"
   ]
  },
  {
   "cell_type": "code",
   "execution_count": 26,
   "id": "93328d8d",
   "metadata": {},
   "outputs": [
    {
     "data": {
      "text/plain": [
       "torch.Size([65, 1, 256])"
      ]
     },
     "execution_count": 26,
     "metadata": {},
     "output_type": "execute_result"
    }
   ],
   "source": [
    "x = transformer(x)\n",
    "x.shape"
   ]
  },
  {
   "cell_type": "markdown",
   "id": "8cc02062",
   "metadata": {},
   "source": [
    "### Output feature vector of CLS token considered as image representation"
   ]
  },
  {
   "cell_type": "code",
   "execution_count": 27,
   "id": "72ae7d01",
   "metadata": {},
   "outputs": [
    {
     "data": {
      "text/plain": [
       "torch.Size([1, 256])"
      ]
     },
     "execution_count": 27,
     "metadata": {},
     "output_type": "execute_result"
    }
   ],
   "source": [
    "cls = x[0]\n",
    "cls.shape"
   ]
  },
  {
   "cell_type": "markdown",
   "id": "a861db18",
   "metadata": {},
   "source": [
    "### MLP head for output classification"
   ]
  },
  {
   "cell_type": "code",
   "execution_count": 28,
   "id": "9e02f994",
   "metadata": {},
   "outputs": [],
   "source": [
    "mlp_head = nn.Sequential(\n",
    "            nn.LayerNorm(embed_dim),\n",
    "            nn.Linear(embed_dim, 10)\n",
    "        )"
   ]
  },
  {
   "cell_type": "code",
   "execution_count": 29,
   "id": "4e8ed081",
   "metadata": {},
   "outputs": [
    {
     "data": {
      "text/plain": [
       "torch.Size([1, 10])"
      ]
     },
     "execution_count": 29,
     "metadata": {},
     "output_type": "execute_result"
    }
   ],
   "source": [
    "out = mlp_head(cls)\n",
    "out.shape # output probabilities"
   ]
  },
  {
   "cell_type": "code",
   "execution_count": 30,
   "id": "a1b7a9e1",
   "metadata": {},
   "outputs": [
    {
     "data": {
      "text/plain": [
       "tensor([[ 0.6173,  0.6003, -0.2451, -0.1761,  0.9034,  0.4863,  0.8357, -0.8066,\n",
       "          0.2395, -0.5247]], grad_fn=<AddmmBackward0>)"
      ]
     },
     "execution_count": 30,
     "metadata": {},
     "output_type": "execute_result"
    }
   ],
   "source": [
    "out"
   ]
  },
  {
   "cell_type": "code",
   "execution_count": null,
   "id": "4d273670",
   "metadata": {},
   "outputs": [],
   "source": [
    "%load_ext tensorboard\n",
    "%tensorboard --logdir saved_models/experiments"
   ]
  }
 ],
 "metadata": {
  "kernelspec": {
   "display_name": "Python 3 (ipykernel)",
   "language": "python",
   "name": "python3"
  },
  "language_info": {
   "codemirror_mode": {
    "name": "ipython",
    "version": 3
   },
   "file_extension": ".py",
   "mimetype": "text/x-python",
   "name": "python",
   "nbconvert_exporter": "python",
   "pygments_lexer": "ipython3",
   "version": "3.11.3"
  }
 },
 "nbformat": 4,
 "nbformat_minor": 5
}
