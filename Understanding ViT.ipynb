{
 "cells": [
  {
   "cell_type": "code",
   "execution_count": null,
   "id": "dbfb323b",
   "metadata": {},
   "outputs": [],
   "source": [
    "%load_ext tensorboard\n",
    "%tensorboard --logdir saved_models/experiments"
   ]
  },
  {
   "cell_type": "code",
   "execution_count": 79,
   "id": "a2595a7e",
   "metadata": {},
   "outputs": [],
   "source": [
    "from datasets import ViTDataLoader\n",
    "from utils import img_to_patch\n",
    "import torch.nn as nn\n",
    "import torch\n",
    "from models.vit import AttentionBlock"
   ]
  },
  {
   "cell_type": "code",
   "execution_count": 81,
   "id": "2c4399e7",
   "metadata": {},
   "outputs": [],
   "source": [
    "patch_size = 4\n",
    "embed_dim = 256\n",
    "num_channels = 3\n",
    "num_patches = 64\n",
    "hidden_dim = 512\n",
    "num_heads = 8\n",
    "dropout = 0.2\n",
    "num_layers = 6"
   ]
  },
  {
   "cell_type": "code",
   "execution_count": 30,
   "id": "062a62ac",
   "metadata": {},
   "outputs": [
    {
     "name": "stdout",
     "output_type": "stream",
     "text": [
      "Files already downloaded and verified\n"
     ]
    },
    {
     "name": "stderr",
     "output_type": "stream",
     "text": [
      "Global seed set to 42\n"
     ]
    }
   ],
   "source": [
    "vit_loader = ViTDataLoader(dataset_path='data', batch_size=4)\n",
    "train = vit_loader.get_train_loader()"
   ]
  },
  {
   "cell_type": "markdown",
   "id": "a8f39046",
   "metadata": {},
   "source": [
    "### Pick a batch from training data"
   ]
  },
  {
   "cell_type": "code",
   "execution_count": 58,
   "id": "7c6545ac",
   "metadata": {},
   "outputs": [],
   "source": [
    "x = next(iter(train))[0]"
   ]
  },
  {
   "cell_type": "code",
   "execution_count": 59,
   "id": "c4b0911a",
   "metadata": {},
   "outputs": [
    {
     "data": {
      "text/plain": [
       "torch.Size([4, 3, 32, 32])"
      ]
     },
     "execution_count": 59,
     "metadata": {},
     "output_type": "execute_result"
    }
   ],
   "source": [
    "x.shape"
   ]
  },
  {
   "cell_type": "markdown",
   "id": "32f680b6",
   "metadata": {},
   "source": [
    "### Convert img to patch"
   ]
  },
  {
   "cell_type": "code",
   "execution_count": 60,
   "id": "8d1b0bba",
   "metadata": {},
   "outputs": [],
   "source": [
    "x = img_to_patch(x, patch_size=4)"
   ]
  },
  {
   "cell_type": "code",
   "execution_count": 61,
   "id": "5eeda47e",
   "metadata": {},
   "outputs": [
    {
     "data": {
      "text/plain": [
       "torch.Size([4, 64, 48])"
      ]
     },
     "execution_count": 61,
     "metadata": {},
     "output_type": "execute_result"
    }
   ],
   "source": [
    "x.shape"
   ]
  },
  {
   "cell_type": "code",
   "execution_count": 62,
   "id": "432762d4",
   "metadata": {},
   "outputs": [
    {
     "name": "stdout",
     "output_type": "stream",
     "text": [
      "4 64\n"
     ]
    }
   ],
   "source": [
    "B, T, _ = x.shape\n",
    "print(B, T)"
   ]
  },
  {
   "cell_type": "code",
   "execution_count": 63,
   "id": "b44ce039",
   "metadata": {},
   "outputs": [
    {
     "data": {
      "text/plain": [
       "48"
      ]
     },
     "execution_count": 63,
     "metadata": {},
     "output_type": "execute_result"
    }
   ],
   "source": [
    "in_features = num_channels*(patch_size**2)\n",
    "in_features"
   ]
  },
  {
   "cell_type": "markdown",
   "id": "ce22e070",
   "metadata": {},
   "source": [
    "### Input Linear Projection layer"
   ]
  },
  {
   "cell_type": "code",
   "execution_count": 64,
   "id": "2e1a58ef",
   "metadata": {},
   "outputs": [],
   "source": [
    "input_layer = nn.Linear(in_features=in_features, out_features=embed_dim)"
   ]
  },
  {
   "cell_type": "code",
   "execution_count": 65,
   "id": "88b82560",
   "metadata": {},
   "outputs": [
    {
     "data": {
      "text/plain": [
       "torch.Size([4, 64, 256])"
      ]
     },
     "execution_count": 65,
     "metadata": {},
     "output_type": "execute_result"
    }
   ],
   "source": [
    "x = input_layer(x)\n",
    "x.shape"
   ]
  },
  {
   "cell_type": "markdown",
   "id": "4b62b225",
   "metadata": {},
   "source": [
    "### CLS token"
   ]
  },
  {
   "cell_type": "code",
   "execution_count": 66,
   "id": "17f6e2f9",
   "metadata": {},
   "outputs": [
    {
     "data": {
      "text/plain": [
       "torch.Size([1, 1, 256])"
      ]
     },
     "execution_count": 66,
     "metadata": {},
     "output_type": "execute_result"
    }
   ],
   "source": [
    "cls_token = nn.Parameter(torch.randn(1, 1, embed_dim))\n",
    "cls_token.shape"
   ]
  },
  {
   "cell_type": "code",
   "execution_count": 67,
   "id": "07153607",
   "metadata": {},
   "outputs": [
    {
     "data": {
      "text/plain": [
       "torch.Size([4, 1, 256])"
      ]
     },
     "execution_count": 67,
     "metadata": {},
     "output_type": "execute_result"
    }
   ],
   "source": [
    "cls_token = cls_token.repeat(B, 1, 1)\n",
    "cls_token.shape"
   ]
  },
  {
   "cell_type": "markdown",
   "id": "3cedf84e",
   "metadata": {},
   "source": [
    "### Appending CLS token layer to Input projection"
   ]
  },
  {
   "cell_type": "code",
   "execution_count": null,
   "id": "43e19f11",
   "metadata": {},
   "outputs": [],
   "source": [
    "x = torch.cat([cls_token, x], dim=1)"
   ]
  },
  {
   "cell_type": "code",
   "execution_count": 69,
   "id": "f5ca1687",
   "metadata": {},
   "outputs": [
    {
     "data": {
      "text/plain": [
       "torch.Size([4, 65, 256])"
      ]
     },
     "execution_count": 69,
     "metadata": {},
     "output_type": "execute_result"
    }
   ],
   "source": [
    "x.shape"
   ]
  },
  {
   "cell_type": "markdown",
   "id": "5f7c1592",
   "metadata": {},
   "source": [
    "### Positional embedding layer"
   ]
  },
  {
   "cell_type": "code",
   "execution_count": 72,
   "id": "536e2a44",
   "metadata": {},
   "outputs": [
    {
     "data": {
      "text/plain": [
       "torch.Size([1, 65, 256])"
      ]
     },
     "execution_count": 72,
     "metadata": {},
     "output_type": "execute_result"
    }
   ],
   "source": [
    "pos_embedding = nn.Parameter(torch.randn(1, 1+num_patches, embed_dim))\n",
    "pos_embedding.shape"
   ]
  },
  {
   "cell_type": "code",
   "execution_count": 74,
   "id": "83310f23",
   "metadata": {},
   "outputs": [
    {
     "data": {
      "text/plain": [
       "torch.Size([1, 65, 256])"
      ]
     },
     "execution_count": 74,
     "metadata": {},
     "output_type": "execute_result"
    }
   ],
   "source": [
    "pos_embedding[:, :T+1].shape"
   ]
  },
  {
   "cell_type": "markdown",
   "id": "31a2f001",
   "metadata": {},
   "source": [
    "### Adding pos embedding to CLS+Input"
   ]
  },
  {
   "cell_type": "code",
   "execution_count": 75,
   "id": "091493f6",
   "metadata": {},
   "outputs": [
    {
     "data": {
      "text/plain": [
       "torch.Size([4, 65, 256])"
      ]
     },
     "execution_count": 75,
     "metadata": {},
     "output_type": "execute_result"
    }
   ],
   "source": [
    "x = x + pos_embedding[:, :T+1]\n",
    "x.shape"
   ]
  },
  {
   "cell_type": "code",
   "execution_count": 76,
   "id": "399988d6",
   "metadata": {},
   "outputs": [],
   "source": [
    "dropout = nn.Dropout(p=0.2)"
   ]
  },
  {
   "cell_type": "code",
   "execution_count": 77,
   "id": "ed20202f",
   "metadata": {},
   "outputs": [
    {
     "data": {
      "text/plain": [
       "torch.Size([4, 65, 256])"
      ]
     },
     "execution_count": 77,
     "metadata": {},
     "output_type": "execute_result"
    }
   ],
   "source": [
    "x = dropout(x)\n",
    "x.shape"
   ]
  },
  {
   "cell_type": "code",
   "execution_count": 78,
   "id": "f24e61b3",
   "metadata": {},
   "outputs": [
    {
     "data": {
      "text/plain": [
       "torch.Size([65, 4, 256])"
      ]
     },
     "execution_count": 78,
     "metadata": {},
     "output_type": "execute_result"
    }
   ],
   "source": [
    "x = x.transpose(0, 1)\n",
    "x.shape"
   ]
  },
  {
   "cell_type": "markdown",
   "id": "24461756",
   "metadata": {},
   "source": [
    "### Multi-Headed Attention"
   ]
  },
  {
   "cell_type": "code",
   "execution_count": 83,
   "id": "7140e05e",
   "metadata": {},
   "outputs": [],
   "source": [
    "transformer = nn.Sequential(*[AttentionBlock(embed_dim, hidden_dim, num_heads, dropout=dropout)\n",
    "                                           for _ in range(num_layers)])"
   ]
  },
  {
   "cell_type": "code",
   "execution_count": 84,
   "id": "9b1deb5d",
   "metadata": {},
   "outputs": [
    {
     "data": {
      "text/plain": [
       "torch.Size([65, 4, 256])"
      ]
     },
     "execution_count": 84,
     "metadata": {},
     "output_type": "execute_result"
    }
   ],
   "source": [
    "x = transformer(x)\n",
    "x.shape"
   ]
  },
  {
   "cell_type": "code",
   "execution_count": null,
   "id": "d78a0e7a",
   "metadata": {},
   "outputs": [],
   "source": [
    "### "
   ]
  },
  {
   "cell_type": "code",
   "execution_count": 108,
   "id": "c6ea5f52",
   "metadata": {},
   "outputs": [
    {
     "data": {
      "text/plain": [
       "torch.Size([4, 256])"
      ]
     },
     "execution_count": 108,
     "metadata": {},
     "output_type": "execute_result"
    }
   ],
   "source": [
    "cls = x[0]\n",
    "cls.shape"
   ]
  },
  {
   "cell_type": "code",
   "execution_count": 109,
   "id": "8fe3487a",
   "metadata": {},
   "outputs": [],
   "source": [
    "mlp_head = nn.Sequential(\n",
    "            nn.LayerNorm(embed_dim),\n",
    "            nn.Linear(embed_dim, 10)\n",
    "        )"
   ]
  },
  {
   "cell_type": "code",
   "execution_count": 110,
   "id": "9aaa8eb7",
   "metadata": {},
   "outputs": [
    {
     "data": {
      "text/plain": [
       "torch.Size([4, 10])"
      ]
     },
     "execution_count": 110,
     "metadata": {},
     "output_type": "execute_result"
    }
   ],
   "source": [
    "out = mlp_head(cls)\n",
    "out.shape"
   ]
  },
  {
   "cell_type": "code",
   "execution_count": null,
   "id": "642d981e",
   "metadata": {},
   "outputs": [],
   "source": []
  }
 ],
 "metadata": {
  "kernelspec": {
   "display_name": "Python 3 (ipykernel)",
   "language": "python",
   "name": "python3"
  },
  "language_info": {
   "codemirror_mode": {
    "name": "ipython",
    "version": 3
   },
   "file_extension": ".py",
   "mimetype": "text/x-python",
   "name": "python",
   "nbconvert_exporter": "python",
   "pygments_lexer": "ipython3",
   "version": "3.11.3"
  }
 },
 "nbformat": 4,
 "nbformat_minor": 5
}
